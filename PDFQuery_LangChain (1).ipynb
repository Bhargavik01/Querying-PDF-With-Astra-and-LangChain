{
  "cells": [
    {
      "attachments": {},
      "cell_type": "markdown",
      "metadata": {
        "id": "wrgOhk8U4Rpl"
      },
      "source": [
        "#  Querying PDF With Astra and LangChain\n",
        "\n",
        "### A question-answering demo using Astra DB and LangChain, powered by Vector Search"
      ]
    },
    {
      "attachments": {},
      "cell_type": "markdown",
      "metadata": {
        "id": "MqfJKgRM4Rpo"
      },
      "source": [
        "#### Pre-requisites:\n",
        "\n",
        "You need a **_Serverless Cassandra with Vector Search_** database on [Astra DB](https://astra.datastax.com) to run this demo. As outlined in more detail [here](https://docs.datastax.com/en/astra-serverless/docs/vector-search/quickstart.html#_prepare_for_using_your_vector_database), you should get a DB Token with role _Database Administrator_ and copy your Database ID: these connection parameters are needed momentarily.\n",
        "\n",
        "You also need an [OpenAI API Key](https://cassio.org/start_here/#llm-access) for this demo to work.\n",
        "\n",
        "#### What you will do:\n",
        "\n",
        "- Setup: import dependencies, provide secrets, create the LangChain vector store;\n",
        "- Run a Question-Answering loop retrieving the relevant headlines and having an LLM construct the answer."
      ]
    },
    {
      "attachments": {},
      "cell_type": "markdown",
      "metadata": {
        "id": "m_FeN-Ep4Rpp"
      },
      "source": [
        "Install the required dependencies:"
      ]
    },
    {
      "cell_type": "code",
      "execution_count": 2,
      "metadata": {
        "id": "Uk0qUhJUQrkO"
      },
      "outputs": [],
      "source": [
        "!pip install -q cassio datasets langchain openai tiktoken"
      ]
    },
    {
      "attachments": {},
      "cell_type": "markdown",
      "metadata": {
        "id": "XQQN-L2J4Rpq"
      },
      "source": [
        "Import the packages you'll need:"
      ]
    },
    {
      "cell_type": "code",
      "execution_count": 3,
      "metadata": {
        "id": "V4qBIihE4Rpq"
      },
      "outputs": [],
      "source": [
        "# LangChain components to use\n",
        "from langchain.vectorstores.cassandra import Cassandra\n",
        "from langchain.indexes.vectorstore import VectorStoreIndexWrapper\n",
        "from langchain.llms import OpenAI\n",
        "from langchain.embeddings import OpenAIEmbeddings\n",
        "\n",
        "# Support for dataset retrieval with Hugging Face\n",
        "from datasets import load_dataset\n",
        "\n",
        "# With CassIO, the engine powering the Astra DB integration in LangChain,\n",
        "# you will also initialize the DB connection:\n",
        "import cassio"
      ]
    },
    {
      "cell_type": "code",
      "execution_count": 4,
      "metadata": {
        "colab": {
          "base_uri": "https://localhost:8080/"
        },
        "id": "WIs76OPQ6JyD",
        "outputId": "66e74604-2d23-4866-c46f-f375535da563"
      },
      "outputs": [
        {
          "name": "stdout",
          "output_type": "stream",
          "text": [
            "Collecting PyPDF2\n",
            "  Downloading pypdf2-3.0.1-py3-none-any.whl (232 kB)\n",
            "\u001b[2K     \u001b[90m━━━━━━━━━━━━━━━━━━━━━━━━━━━━━━━━━━━━━━━━\u001b[0m \u001b[32m232.6/232.6 kB\u001b[0m \u001b[31m2.2 MB/s\u001b[0m eta \u001b[36m0:00:00\u001b[0m\n",
            "\u001b[?25hInstalling collected packages: PyPDF2\n",
            "Successfully installed PyPDF2-3.0.1\n"
          ]
        }
      ],
      "source": [
        "# helps to reaaad any pdf's\n",
        "!pip install PyPDF2"
      ]
    },
    {
      "cell_type": "code",
      "execution_count": 5,
      "metadata": {
        "id": "1itBNL1v6N9-"
      },
      "outputs": [],
      "source": [
        "from PyPDF2 import PdfReader"
      ]
    },
    {
      "attachments": {},
      "cell_type": "markdown",
      "metadata": {
        "id": "Vu2UauiC4Rpr"
      },
      "source": [
        "### Setup"
      ]
    },
    {
      "cell_type": "code",
      "execution_count": 13,
      "metadata": {
        "id": "eqpM6I854Rpr"
      },
      "outputs": [],
      "source": [
        "ASTRA_DB_APPLICATION_TOKEN = \"AstraCS:vwH******d210\" # enter the \"AstraCS:...\" string found in in your Token JSON file\n",
        "ASTRA_DB_ID = \"8***b9-c14a-4a5f-85a8-a*****cd8e\" # enter your Database ID\n",
        "\n",
        "OPENAI_API_KEY = \"sk-eg*****\" # enter your OpenAI key"
      ]
    },
    {
      "attachments": {},
      "cell_type": "markdown",
      "metadata": {
        "id": "Q1cmD5EF4Rpr"
      },
      "source": [
        "#### Provide your secrets:\n",
        "\n",
        "Replace the following with your Astra DB connection details and your OpenAI API key:"
      ]
    },
    {
      "cell_type": "code",
      "execution_count": 8,
      "metadata": {
        "id": "waVKJW-n6jqJ"
      },
      "outputs": [],
      "source": [
        "# provide the path of  pdf file/files.\n",
        "pdfreader = PdfReader('/content/mythology.pdf')"
      ]
    },
    {
      "cell_type": "code",
      "execution_count": 9,
      "metadata": {
        "id": "42BKuFRO6meP"
      },
      "outputs": [],
      "source": [
        "from typing_extensions import Concatenate\n",
        "# read text from pdf\n",
        "raw_text = ''\n",
        "for i, page in enumerate(pdfreader.pages):\n",
        "    content = page.extract_text()\n",
        "    if content:\n",
        "        raw_text += content"
      ]
    },
    {
      "cell_type": "code",
      "execution_count": 10,
      "metadata": {
        "colab": {
          "base_uri": "https://localhost:8080/",
          "height": 161
        },
        "id": "vR41Iq-4ZHnG",
        "outputId": "b1cda26c-45fa-473c-9f4e-e349648ea7c7"
      },
      "outputs": [
        {
          "data": {
            "application/vnd.google.colaboratory.intrinsic+json": {
              "type": "string"
            },
            "text/plain": [
              "' \\nIntroduction to Indian Mythology  \\n                                                                                         V.Durgalakshmi, Ph.D {Samskruth}  \\nMythology : Definition and Need to Study  \\nA collection of myth, especially one belonging to a particu lar religious or cultural tradition is \\nthe dictionary definition of mythology. It is also defined as a set of stories or beliefs about a \\nparticular person, institution, or situation, especially when exaggerated or fictitious. We \\nneed to understand that myt hology is a branch of knowledge that deals with narratives \\nabout Goddesses & Gods, demi -gods, legendary personalities of different civilizations and \\ntheir cultures. Traditions, folklore and legends are similar to and sometimes part of \\nMythology.  \\nSince myth ology typically incorporates superhuman characters, it is important for us to \\nstudy them with a “time -perspective”. We also need to understand the mythology of our \\nrespective cultures to bond with it better. The volume of knowledge in the myths not only \\ntransmits religious experiences, but also projects  role models of behavior patterns. They \\nexplain patterns of worship and attempt to reconnect the modern society to the bygone \\nages.  \\nModern theories on mythology sum up the branch as that which explains the sp iritual \\npotential of individuals and societies. Also contemporary theorists say that myths explore \\ncommon archetypes and explain mind  patterns especially in relation to the pairs of \\nopposites like good and bad, virtue and vice etc.  \\nIndian Mythology  \\nThroug h generations, different stories in Indian mythology have been passed from \\ngeneration to generation either by word of mouth or through carefully stored records of the \\nsame. These stories, which form the backbone of Indian mythology, are a great medium for \\npeople to inculcate interest in Indian Culture in the younger generation, both the natives \\nand non -natives.  \\nGiven below are some salient features of Indian mythology.  \\n\\uf0b7 The stories are most effective in conveying powerful messages to the readers, \\nthereby in fluencing their personality.  \\n\\uf0b7 The intention of Indian mythological literature is to convey subtle facts, rules and \\nmaxims to guide our daily lives.  \\uf0b7 There are usually multiple stories explaining the same fact, occasion or festival with \\neach version being right in its own merit. This is a result of the natural evolution the \\nstories might have gone through in the process of being handed over from \\ngeneration to generation for centuries.   \\n\\uf0b7 Across geographical differences, myths taken from the Vedhas, Purāṇas and \\nIthihāsas retain their o riginal intent, adding local flavour only in terms of language, \\nimagery etc.  \\nVedhic mythology  \\nThis section refers to the mythological aspects found in Vedhic literature of the  very ancient \\nVedhic religion,  mostly centred round the hymns of the  Ṛgvedha . There are four Vedhas -Ṛg, \\nYajur, S āma and Athharva. They remain the principle texts of the ancien t Indian civilization, \\nvenerated till date.  \\nIt is very fascinating to note that Vedhic lore contains numerous elements , which are \\ncommon to Indo -European mythological traditions, like the mythologies of  the \\nPersian,  Greek, Roman, Celtic, Germanic and Slavi c civilizations.  \\nVedhic hymns refer to many deities, often 33, consisting of eight Vasus, eleven Rudhras, \\ntwel ve Ā dhithyas, and the late Ṛgvedhic Prajāpathi. These deities belong to the three \\ndimensions of the universe/heavens, the earth, and the intermediate space.  \\nMajor deities of the Vedhic tradition are:  \\nIndhra,  Sūrya,  Agni,  Vāyu,  Varuṇa, Mithra,  Adhithi,  Yama , Soma,  Uṣhas,  Sarasvathi,  Pruthvi , \\nand Rudhra . \\nVedhic mythology has in many ways contributed to the evolution and development of \\nlater  Hind huism  and Hind hu mythology . \\n \\nPost -Vedhi c mythology  \\nPost – Vedhic mytholgy is popularly known as Hindhu mytholgy. Hind hu mythology  is the \\nlarge body of traditional stories or narratives related to  Hind huism  and this is contained \\nmostly in Sanskrit literature , such as the  Sanskrit epics  and the Purāṇas . The important \\nfeatures of Hin dhu Mythology are:  \\n\\uf0b7 It is a range of diverse traditions, developed by different sects, people and \\nphilosophical schools. \\n\\uf0b7 Far from being confined to one particular region, one can note that this collection is \\na subset o f Nepali  and pan Indian culture . \\n\\uf0b7 It is a collection of works not only marked by different regions bu t also composed at \\ndifferent time periods. \\uf0b7  On a practical but surprising note, all of these are not necessarily held by all Hind hus \\nto be literal accounts of historical events of any era. \\n\\uf0b7 They are taken to have deeper, often symbolic meanings, all of whic h have been \\ngiven a complex range of interpretations.  \\n \\nThe concept of Yuga  \\nA brief understanding of time periods in the Indian context is necessary for us to gain more \\nclarity . Yuga means an era or epoch. In the Hind hu theory of creation life is created and \\ndestroyed in the beginning and end of every Yuga. In total, there are 4  Yugas. These are the \\nSathya or Krutha Yuga, the Thretha Yuga, the Dhvāpara Yuga, and the Kali Yuga.  The time \\nperiod of each Yug a is defined to be between 4 hundred thousand to 4 billion plus years in a \\ndescending order from Sathya yuga t o Kali yuga. When all the four Yugas are completed, it is \\none Yuga cycle and the next starts with Sathya yuga again.  These 4 yugas follow a timeline \\nratio of 4:3:2:1  \\nIt is interesting to note that specific qualities of human life are given to these Yugas a nd it is \\nsaid that with each Yuga virtue, wisdom, knowledge and even the life -span of the humans \\nprogressively decreases . It is said that from 1, 00, 000 years in Sathya yuga the life - span \\ncomes down to 100 years in the Kali yuga and at the end of Kali yu ga it will be just 20 years!  \\nAs we have understood earlier that Indian mythology spans many Yugas, we will now get a \\nbetter picture of the content in terms of the respective time -frames.  \\n \\nEpics  \\nThe epics are part of the Ithihāsa genre which is semi -histor ical. The definition \\nof Ithihāsa  has varied over time, with the most popular one being that  it is a narrative of \\npast which includes teachings on  the purpose of human life.  For the period of  Classical \\nSanskrit , immense material is available to us in the  Sanskrit epics , the  Rāmāyaṇ a and \\nthe Mahābhāratha  which are set in different  Yugas . \\n\\uf0b7 The Rāmāyaṇa, written by the poet Vālmīki, describes the life an d times of Lord \\nRāma (the seventh avatar of Lord Viṣhṇu) in the Thretha yuga.  \\n\\uf0b7 The Mahābhāratha  describes the life and times of the Pāṇḍavas,in the Dhvāpara \\nyuga, a period associated with Lord Kriṣhṇa (the eighth avathāra of Lord Viṣhṇu).  \\n \\nRāmāyaṇa  - The epic of Vālmīki  describing Rāma’s journey concentrates on the idealism of \\nall characters there in.  \\uf0a7 The Rāmāyaṇa consists of 24,000 verses in seven kāṇḍas (Books or Chapters) and \\n500 Sargas (cantos).  \\n\\uf0a7 The epic is c entral to the cultures of most south -east A sian countries, the epic \\ninspires all till date with its unique portrayal of philosophy, devotion, and human \\nvalues.   \\n\\uf0a7 Rāmāyaṇa has been re -written in Hindi, Thamizh and other Indian languages and \\ntranslated world over in many more.   \\n\\uf0a7 In the Indian cultural context, it is closest to the heart of the populace than any other \\nnarrative with the characters of Rāma and his brothers, wife Sīthā and devotee \\nHanumān etched in their psyche.  \\n \\nMahābhāratha – Traditionally, the authorship of the  epic is attributed to  Vyāsa .  \\n\\uf0a7 Scholars till date attempt to understand its historical growth and compositional \\nlayers of Jaya, Vijaya, Bhāratha and Mahābhāratha.   \\n\\uf0a7 The Mahābhāratha is the longest Sanskrit epic and its long est version consists of \\nover 100,000  verses or over 200,000 individual verse lines (each Śhloka is a couplet) \\nand also many long passages in prose.  \\n\\uf0a7 It narrates about the  Kuruk ṣhethra war  and the lives of the  Kauravas  and \\nthe Pāṇḍava  princes who fought the war.   \\n\\uf0a7 The best component of this epic is t he Bhagavadh Gīthā, the discourse given by \\nKriṣhṇa to Arjuna in the battlefield.  The battle produces multiple conflicts of \\nrelationships, instances of family loyalty and duty taking precedence over what is \\nright, as well as the converse.  \\nBesides mythology proper, the voluminous epics also provide a wide range of information \\nabout ancient Indian society, philosophy, culture, religion and ways of life.  \\n \\nPurāṇas  \\nThe Purāṇas  deal with narratives that are old. With the derivative noun  Purāṇa,  meaning \\n\"old story\", we need to note that Purāthana  is Sanskrit for \"ancient\". The Purāṇic literature \\ngoes through a large time period from pre -epic to post epic. The eighteen Purāṇas are \\ndivided into three groups based on their allegiance to Brahmā, Viṣhṇu and Śhiva.  \\n\\uf0b7 The Purāṇas for Brahm ā are Brahmāṇḍa Purāṇa , Brahmavaivartha Purāṇa  , \\nMārkaṇḍeya Purāṇa  ,  Bhaviṣhya Purāṇa , Vāmana Purāṇa  and Brahma Purāṇa . \\n\\uf0b7 The Purāṇas for Viṣhṇu are Viṣhṇu Purāṇa , Nāradhīya Purāṇa   Padhma Purāṇa , \\nGaruḍa Purāṇa , Varāha Purāṇa  , Bhāgavatha Purāṇa    \\n\\uf0b7 The Purāṇas for Śhiva  are Mathsya Purāṇa,  Kurma Purāṇa, Linga Purāṇa, Shiva \\nPurāṇa , Skandha Purāṇa, and Agni Purāṇa  \\n Relevance  of mythology to performing and fine arts  \\nArtists  will be a deprived lot, if mythology w as not available to them in its variety . In all the \\ncultures of the world, ancient and modern, mythology is the substratum for the various \\nartistic productions a cross genre s. Indian mythology not only inspires these performers but \\nalso artists belonging to other fine fields like painting, sculpture and many more. As has \\nbeen the trend, the richness of this almost in -exhaustive resource is to be honoured and \\nmaintained in bot h pure and fusion forms. The Vedhas, Purāṇas and later literature like the \\nKāvyas provide ample concepts for Indian musicians and dancers of all genres – classical, \\nfolk and others. All the ‘Navarasas’ --nine emotions -- are given enough scope in Indian \\nmyth ology and this magnifies the ability of the performer to present them. Indian myth s \\nprovide the singer or the dancer with a vast repertoire for their entire productions.  \\n \\nConclusion  \\nMyths, world over, have to be critically studied to get a complete unders tanding of its \\nrelevance in the cultural context. Many modern scholars and students dismiss the \\nimportance of mythological studies as irrelevant or term it obsolete. But, it can be observed \\nthat with the increasing number of avenues available to us, the pr actice of passing on \\nmythology is very much prevalent today, as never before. It is interesting to note that the \\naudience s for cinemas, theatre -classical, folk & contemporary  and even tele -serials are huge \\nin numbers, if the story or concept is based on Ind ian mythology.   \\nJoseph Campbell  defined myths as having four basic functions:  \\n\\uf0b7 the Mystical Function —experiencing the awe of the universe;  \\n\\uf0b7  the Cosmological Function —explaining the shape of the universe;  \\n\\uf0b7 the Sociological Function —supporting and validating  a certain social order;  \\n\\uf0b7 and the Pedagogical Function —how to live a human lifetime under any \\ncircumstances.   \\nWe can conclude that Indian mythology fulfils all the above functions and is indispensable in \\norder to impart values of Indian culture worldwide.  \\n '"
            ]
          },
          "execution_count": 10,
          "metadata": {},
          "output_type": "execute_result"
        }
      ],
      "source": [
        "raw_text"
      ]
    },
    {
      "attachments": {},
      "cell_type": "markdown",
      "metadata": {
        "id": "5S0GgIQs4Rps"
      },
      "source": [
        "Initialize the connection to your database:\n",
        "\n",
        "_(do not worry if you see a few warnings, it's just that the drivers are chatty about negotiating protocol versions with the DB.)_"
      ]
    },
    {
      "cell_type": "code",
      "execution_count": 14,
      "metadata": {
        "colab": {
          "base_uri": "https://localhost:8080/"
        },
        "id": "zFBR5HnZSPmK",
        "outputId": "ffc3773f-2d7a-4eaf-fc20-a9e6e5435034"
      },
      "outputs": [
        {
          "name": "stderr",
          "output_type": "stream",
          "text": [
            "WARNING:cassandra.cluster:Downgrading core protocol version from 66 to 65 for 8b70b7b9-c14a-4a5f-85a8-a4b5a60acd8e-us-east1.db.astra.datastax.com:29042:ceba643e-b237-470a-b0be-b86329b59e66. To avoid this, it is best practice to explicitly set Cluster(protocol_version) to the version supported by your cluster. http://datastax.github.io/python-driver/api/cassandra/cluster.html#cassandra.cluster.Cluster.protocol_version\n",
            "WARNING:cassandra.cluster:Downgrading core protocol version from 65 to 5 for 8b70b7b9-c14a-4a5f-85a8-a4b5a60acd8e-us-east1.db.astra.datastax.com:29042:ceba643e-b237-470a-b0be-b86329b59e66. To avoid this, it is best practice to explicitly set Cluster(protocol_version) to the version supported by your cluster. http://datastax.github.io/python-driver/api/cassandra/cluster.html#cassandra.cluster.Cluster.protocol_version\n",
            "ERROR:cassandra.connection:Closing connection <AsyncoreConnection(137289285779072) 8b70b7b9-c14a-4a5f-85a8-a4b5a60acd8e-us-east1.db.astra.datastax.com:29042:ceba643e-b237-470a-b0be-b86329b59e66> due to protocol error: Error from server: code=000a [Protocol error] message=\"Beta version of the protocol used (5/v5-beta), but USE_BETA flag is unset\"\n",
            "WARNING:cassandra.cluster:Downgrading core protocol version from 5 to 4 for 8b70b7b9-c14a-4a5f-85a8-a4b5a60acd8e-us-east1.db.astra.datastax.com:29042:ceba643e-b237-470a-b0be-b86329b59e66. To avoid this, it is best practice to explicitly set Cluster(protocol_version) to the version supported by your cluster. http://datastax.github.io/python-driver/api/cassandra/cluster.html#cassandra.cluster.Cluster.protocol_version\n"
          ]
        }
      ],
      "source": [
        "cassio.init(token=ASTRA_DB_APPLICATION_TOKEN, database_id=ASTRA_DB_ID)"
      ]
    },
    {
      "attachments": {},
      "cell_type": "markdown",
      "metadata": {
        "id": "ex7NxZYb4Rps"
      },
      "source": [
        "Create the LangChain embedding and LLM objects for later usage:"
      ]
    },
    {
      "cell_type": "code",
      "execution_count": 15,
      "metadata": {
        "colab": {
          "base_uri": "https://localhost:8080/"
        },
        "id": "TavS0AK2SLrL",
        "outputId": "60892bb2-4b6a-4bcb-d13c-8362b8c1a2e8"
      },
      "outputs": [
        {
          "name": "stderr",
          "output_type": "stream",
          "text": [
            "/usr/local/lib/python3.10/dist-packages/langchain_core/_api/deprecation.py:117: LangChainDeprecationWarning: The class `langchain_community.llms.openai.OpenAI` was deprecated in langchain-community 0.0.10 and will be removed in 0.2.0. An updated version of the class exists in the langchain-openai package and should be used instead. To use it run `pip install -U langchain-openai` and import as `from langchain_openai import OpenAI`.\n",
            "  warn_deprecated(\n",
            "/usr/local/lib/python3.10/dist-packages/langchain_core/_api/deprecation.py:117: LangChainDeprecationWarning: The class `langchain_community.embeddings.openai.OpenAIEmbeddings` was deprecated in langchain-community 0.1.0 and will be removed in 0.2.0. An updated version of the class exists in the langchain-openai package and should be used instead. To use it run `pip install -U langchain-openai` and import as `from langchain_openai import OpenAIEmbeddings`.\n",
            "  warn_deprecated(\n"
          ]
        }
      ],
      "source": [
        "llm = OpenAI(openai_api_key=OPENAI_API_KEY)\n",
        "embedding = OpenAIEmbeddings(openai_api_key=OPENAI_API_KEY)"
      ]
    },
    {
      "attachments": {},
      "cell_type": "markdown",
      "metadata": {
        "id": "9HMMx5Pm4Rpt"
      },
      "source": [
        "Create your LangChain vector store ... backed by Astra DB!"
      ]
    },
    {
      "cell_type": "code",
      "execution_count": 16,
      "metadata": {
        "id": "bg9VAk4USQvU"
      },
      "outputs": [],
      "source": [
        "astra_vector_store = Cassandra(\n",
        "    embedding=embedding,\n",
        "    table_name=\"qa_mini_demo\",\n",
        "    session=None,\n",
        "    keyspace=None,\n",
        ")"
      ]
    },
    {
      "cell_type": "code",
      "execution_count": 17,
      "metadata": {
        "id": "9FMAhKr77AVO"
      },
      "outputs": [],
      "source": [
        "from langchain.text_splitter import CharacterTextSplitter\n",
        "# We need to split the text using Character Text Split such that it sshould not increse token size\n",
        "text_splitter = CharacterTextSplitter(\n",
        "    separator = \"\\n\",\n",
        "    chunk_size = 800,\n",
        "    chunk_overlap  = 200,\n",
        "    length_function = len,\n",
        ")\n",
        "texts = text_splitter.split_text(raw_text)"
      ]
    },
    {
      "cell_type": "code",
      "execution_count": 18,
      "metadata": {
        "colab": {
          "base_uri": "https://localhost:8080/"
        },
        "id": "k8BDHAyT7Gjr",
        "outputId": "2dcdd6a4-dc48-4987-c3e1-8b3de1d1d815"
      },
      "outputs": [
        {
          "data": {
            "text/plain": [
              "['Introduction to Indian Mythology  \\n                                                                                         V.Durgalakshmi, Ph.D {Samskruth}  \\nMythology : Definition and Need to Study  \\nA collection of myth, especially one belonging to a particu lar religious or cultural tradition is \\nthe dictionary definition of mythology. It is also defined as a set of stories or beliefs about a \\nparticular person, institution, or situation, especially when exaggerated or fictitious. We \\nneed to understand that myt hology is a branch of knowledge that deals with narratives \\nabout Goddesses & Gods, demi -gods, legendary personalities of different civilizations and \\ntheir cultures. Traditions, folklore and legends are similar to and sometimes part of \\nMythology.',\n",
              " 'about Goddesses & Gods, demi -gods, legendary personalities of different civilizations and \\ntheir cultures. Traditions, folklore and legends are similar to and sometimes part of \\nMythology.  \\nSince myth ology typically incorporates superhuman characters, it is important for us to \\nstudy them with a “time -perspective”. We also need to understand the mythology of our \\nrespective cultures to bond with it better. The volume of knowledge in the myths not only \\ntransmits religious experiences, but also projects  role models of behavior patterns. They \\nexplain patterns of worship and attempt to reconnect the modern society to the bygone \\nages.  \\nModern theories on mythology sum up the branch as that which explains the sp iritual',\n",
              " 'explain patterns of worship and attempt to reconnect the modern society to the bygone \\nages.  \\nModern theories on mythology sum up the branch as that which explains the sp iritual \\npotential of individuals and societies. Also contemporary theorists say that myths explore \\ncommon archetypes and explain mind  patterns especially in relation to the pairs of \\nopposites like good and bad, virtue and vice etc.  \\nIndian Mythology  \\nThroug h generations, different stories in Indian mythology have been passed from \\ngeneration to generation either by word of mouth or through carefully stored records of the \\nsame. These stories, which form the backbone of Indian mythology, are a great medium for \\npeople to inculcate interest in Indian Culture in the younger generation, both the natives',\n",
              " 'same. These stories, which form the backbone of Indian mythology, are a great medium for \\npeople to inculcate interest in Indian Culture in the younger generation, both the natives \\nand non -natives.  \\nGiven below are some salient features of Indian mythology.  \\n\\uf0b7 The stories are most effective in conveying powerful messages to the readers, \\nthereby in fluencing their personality.  \\n\\uf0b7 The intention of Indian mythological literature is to convey subtle facts, rules and \\nmaxims to guide our daily lives.  \\uf0b7 There are usually multiple stories explaining the same fact, occasion or festival with \\neach version being right in its own merit. This is a result of the natural evolution the \\nstories might have gone through in the process of being handed over from',\n",
              " 'each version being right in its own merit. This is a result of the natural evolution the \\nstories might have gone through in the process of being handed over from \\ngeneration to generation for centuries.   \\n\\uf0b7 Across geographical differences, myths taken from the Vedhas, Purāṇas and \\nIthihāsas retain their o riginal intent, adding local flavour only in terms of language, \\nimagery etc.  \\nVedhic mythology  \\nThis section refers to the mythological aspects found in Vedhic literature of the  very ancient \\nVedhic religion,  mostly centred round the hymns of the  Ṛgvedha . There are four Vedhas -Ṛg, \\nYajur, S āma and Athharva. They remain the principle texts of the ancien t Indian civilization, \\nvenerated till date.',\n",
              " 'Yajur, S āma and Athharva. They remain the principle texts of the ancien t Indian civilization, \\nvenerated till date.  \\nIt is very fascinating to note that Vedhic lore contains numerous elements , which are \\ncommon to Indo -European mythological traditions, like the mythologies of  the \\nPersian,  Greek, Roman, Celtic, Germanic and Slavi c civilizations.  \\nVedhic hymns refer to many deities, often 33, consisting of eight Vasus, eleven Rudhras, \\ntwel ve Ā dhithyas, and the late Ṛgvedhic Prajāpathi. These deities belong to the three \\ndimensions of the universe/heavens, the earth, and the intermediate space.  \\nMajor deities of the Vedhic tradition are:  \\nIndhra,  Sūrya,  Agni,  Vāyu,  Varuṇa, Mithra,  Adhithi,  Yama , Soma,  Uṣhas,  Sarasvathi,  Pruthvi , \\nand Rudhra .',\n",
              " 'Major deities of the Vedhic tradition are:  \\nIndhra,  Sūrya,  Agni,  Vāyu,  Varuṇa, Mithra,  Adhithi,  Yama , Soma,  Uṣhas,  Sarasvathi,  Pruthvi , \\nand Rudhra . \\nVedhic mythology has in many ways contributed to the evolution and development of \\nlater  Hind huism  and Hind hu mythology . \\n \\nPost -Vedhi c mythology  \\nPost – Vedhic mytholgy is popularly known as Hindhu mytholgy. Hind hu mythology  is the \\nlarge body of traditional stories or narratives related to  Hind huism  and this is contained \\nmostly in Sanskrit literature , such as the  Sanskrit epics  and the Purāṇas . The important \\nfeatures of Hin dhu Mythology are:  \\n\\uf0b7 It is a range of diverse traditions, developed by different sects, people and \\nphilosophical schools.',\n",
              " 'features of Hin dhu Mythology are:  \\n\\uf0b7 It is a range of diverse traditions, developed by different sects, people and \\nphilosophical schools. \\n\\uf0b7 Far from being confined to one particular region, one can note that this collection is \\na subset o f Nepali  and pan Indian culture . \\n\\uf0b7 It is a collection of works not only marked by different regions bu t also composed at \\ndifferent time periods. \\uf0b7  On a practical but surprising note, all of these are not necessarily held by all Hind hus \\nto be literal accounts of historical events of any era. \\n\\uf0b7 They are taken to have deeper, often symbolic meanings, all of whic h have been \\ngiven a complex range of interpretations.  \\n \\nThe concept of Yuga  \\nA brief understanding of time periods in the Indian context is necessary for us to gain more',\n",
              " 'given a complex range of interpretations.  \\n \\nThe concept of Yuga  \\nA brief understanding of time periods in the Indian context is necessary for us to gain more \\nclarity . Yuga means an era or epoch. In the Hind hu theory of creation life is created and \\ndestroyed in the beginning and end of every Yuga. In total, there are 4  Yugas. These are the \\nSathya or Krutha Yuga, the Thretha Yuga, the Dhvāpara Yuga, and the Kali Yuga.  The time \\nperiod of each Yug a is defined to be between 4 hundred thousand to 4 billion plus years in a \\ndescending order from Sathya yuga t o Kali yuga. When all the four Yugas are completed, it is \\none Yuga cycle and the next starts with Sathya yuga again.  These 4 yugas follow a timeline \\nratio of 4:3:2:1',\n",
              " 'one Yuga cycle and the next starts with Sathya yuga again.  These 4 yugas follow a timeline \\nratio of 4:3:2:1  \\nIt is interesting to note that specific qualities of human life are given to these Yugas a nd it is \\nsaid that with each Yuga virtue, wisdom, knowledge and even the life -span of the humans \\nprogressively decreases . It is said that from 1, 00, 000 years in Sathya yuga the life - span \\ncomes down to 100 years in the Kali yuga and at the end of Kali yu ga it will be just 20 years!  \\nAs we have understood earlier that Indian mythology spans many Yugas, we will now get a \\nbetter picture of the content in terms of the respective time -frames.  \\n \\nEpics  \\nThe epics are part of the Ithihāsa genre which is semi -histor ical. The definition',\n",
              " 'better picture of the content in terms of the respective time -frames.  \\n \\nEpics  \\nThe epics are part of the Ithihāsa genre which is semi -histor ical. The definition \\nof Ithihāsa  has varied over time, with the most popular one being that  it is a narrative of \\npast which includes teachings on  the purpose of human life.  For the period of  Classical \\nSanskrit , immense material is available to us in the  Sanskrit epics , the  Rāmāyaṇ a and \\nthe Mahābhāratha  which are set in different  Yugas . \\n\\uf0b7 The Rāmāyaṇa, written by the poet Vālmīki, describes the life an d times of Lord \\nRāma (the seventh avatar of Lord Viṣhṇu) in the Thretha yuga.  \\n\\uf0b7 The Mahābhāratha  describes the life and times of the Pāṇḍavas,in the Dhvāpara',\n",
              " 'Rāma (the seventh avatar of Lord Viṣhṇu) in the Thretha yuga.  \\n\\uf0b7 The Mahābhāratha  describes the life and times of the Pāṇḍavas,in the Dhvāpara \\nyuga, a period associated with Lord Kriṣhṇa (the eighth avathāra of Lord Viṣhṇu).  \\n \\nRāmāyaṇa  - The epic of Vālmīki  describing Rāma’s journey concentrates on the idealism of \\nall characters there in.  \\uf0a7 The Rāmāyaṇa consists of 24,000 verses in seven kāṇḍas (Books or Chapters) and \\n500 Sargas (cantos).  \\n\\uf0a7 The epic is c entral to the cultures of most south -east A sian countries, the epic \\ninspires all till date with its unique portrayal of philosophy, devotion, and human \\nvalues.   \\n\\uf0a7 Rāmāyaṇa has been re -written in Hindi, Thamizh and other Indian languages and \\ntranslated world over in many more.',\n",
              " 'values.   \\n\\uf0a7 Rāmāyaṇa has been re -written in Hindi, Thamizh and other Indian languages and \\ntranslated world over in many more.   \\n\\uf0a7 In the Indian cultural context, it is closest to the heart of the populace than any other \\nnarrative with the characters of Rāma and his brothers, wife Sīthā and devotee \\nHanumān etched in their psyche.  \\n \\nMahābhāratha – Traditionally, the authorship of the  epic is attributed to  Vyāsa .  \\n\\uf0a7 Scholars till date attempt to understand its historical growth and compositional \\nlayers of Jaya, Vijaya, Bhāratha and Mahābhāratha.   \\n\\uf0a7 The Mahābhāratha is the longest Sanskrit epic and its long est version consists of \\nover 100,000  verses or over 200,000 individual verse lines (each Śhloka is a couplet) \\nand also many long passages in prose.',\n",
              " 'over 100,000  verses or over 200,000 individual verse lines (each Śhloka is a couplet) \\nand also many long passages in prose.  \\n\\uf0a7 It narrates about the  Kuruk ṣhethra war  and the lives of the  Kauravas  and \\nthe Pāṇḍava  princes who fought the war.   \\n\\uf0a7 The best component of this epic is t he Bhagavadh Gīthā, the discourse given by \\nKriṣhṇa to Arjuna in the battlefield.  The battle produces multiple conflicts of \\nrelationships, instances of family loyalty and duty taking precedence over what is \\nright, as well as the converse.  \\nBesides mythology proper, the voluminous epics also provide a wide range of information \\nabout ancient Indian society, philosophy, culture, religion and ways of life.  \\n \\nPurāṇas',\n",
              " 'Besides mythology proper, the voluminous epics also provide a wide range of information \\nabout ancient Indian society, philosophy, culture, religion and ways of life.  \\n \\nPurāṇas  \\nThe Purāṇas  deal with narratives that are old. With the derivative noun  Purāṇa,  meaning \\n\"old story\", we need to note that Purāthana  is Sanskrit for \"ancient\". The Purāṇic literature \\ngoes through a large time period from pre -epic to post epic. The eighteen Purāṇas are \\ndivided into three groups based on their allegiance to Brahmā, Viṣhṇu and Śhiva.  \\n\\uf0b7 The Purāṇas for Brahm ā are Brahmāṇḍa Purāṇa , Brahmavaivartha Purāṇa  , \\nMārkaṇḍeya Purāṇa  ,  Bhaviṣhya Purāṇa , Vāmana Purāṇa  and Brahma Purāṇa . \\n\\uf0b7 The Purāṇas for Viṣhṇu are Viṣhṇu Purāṇa , Nāradhīya Purāṇa   Padhma Purāṇa ,',\n",
              " 'Mārkaṇḍeya Purāṇa  ,  Bhaviṣhya Purāṇa , Vāmana Purāṇa  and Brahma Purāṇa . \\n\\uf0b7 The Purāṇas for Viṣhṇu are Viṣhṇu Purāṇa , Nāradhīya Purāṇa   Padhma Purāṇa , \\nGaruḍa Purāṇa , Varāha Purāṇa  , Bhāgavatha Purāṇa    \\n\\uf0b7 The Purāṇas for Śhiva  are Mathsya Purāṇa,  Kurma Purāṇa, Linga Purāṇa, Shiva \\nPurāṇa , Skandha Purāṇa, and Agni Purāṇa  \\n Relevance  of mythology to performing and fine arts  \\nArtists  will be a deprived lot, if mythology w as not available to them in its variety . In all the \\ncultures of the world, ancient and modern, mythology is the substratum for the various \\nartistic productions a cross genre s. Indian mythology not only inspires these performers but \\nalso artists belonging to other fine fields like painting, sculpture and many more. As has',\n",
              " 'artistic productions a cross genre s. Indian mythology not only inspires these performers but \\nalso artists belonging to other fine fields like painting, sculpture and many more. As has \\nbeen the trend, the richness of this almost in -exhaustive resource is to be honoured and \\nmaintained in bot h pure and fusion forms. The Vedhas, Purāṇas and later literature like the \\nKāvyas provide ample concepts for Indian musicians and dancers of all genres – classical, \\nfolk and others. All the ‘Navarasas’ --nine emotions -- are given enough scope in Indian \\nmyth ology and this magnifies the ability of the performer to present them. Indian myth s \\nprovide the singer or the dancer with a vast repertoire for their entire productions.  \\n \\nConclusion',\n",
              " 'myth ology and this magnifies the ability of the performer to present them. Indian myth s \\nprovide the singer or the dancer with a vast repertoire for their entire productions.  \\n \\nConclusion  \\nMyths, world over, have to be critically studied to get a complete unders tanding of its \\nrelevance in the cultural context. Many modern scholars and students dismiss the \\nimportance of mythological studies as irrelevant or term it obsolete. But, it can be observed \\nthat with the increasing number of avenues available to us, the pr actice of passing on \\nmythology is very much prevalent today, as never before. It is interesting to note that the \\naudience s for cinemas, theatre -classical, folk & contemporary  and even tele -serials are huge',\n",
              " 'mythology is very much prevalent today, as never before. It is interesting to note that the \\naudience s for cinemas, theatre -classical, folk & contemporary  and even tele -serials are huge \\nin numbers, if the story or concept is based on Ind ian mythology.   \\nJoseph Campbell  defined myths as having four basic functions:  \\n\\uf0b7 the Mystical Function —experiencing the awe of the universe;  \\n\\uf0b7  the Cosmological Function —explaining the shape of the universe;  \\n\\uf0b7 the Sociological Function —supporting and validating  a certain social order;  \\n\\uf0b7 and the Pedagogical Function —how to live a human lifetime under any \\ncircumstances.   \\nWe can conclude that Indian mythology fulfils all the above functions and is indispensable in \\norder to impart values of Indian culture worldwide.']"
            ]
          },
          "execution_count": 18,
          "metadata": {},
          "output_type": "execute_result"
        }
      ],
      "source": [
        "texts[:50]"
      ]
    },
    {
      "attachments": {},
      "cell_type": "markdown",
      "metadata": {
        "id": "V1WK54-74Rpt"
      },
      "source": [
        "### Load the dataset into the vector store\n",
        "\n"
      ]
    },
    {
      "cell_type": "code",
      "execution_count": 19,
      "metadata": {
        "colab": {
          "base_uri": "https://localhost:8080/"
        },
        "id": "GX5BECsdSUUM",
        "outputId": "15765c20-3de6-4854-e961-1477d61759c3"
      },
      "outputs": [
        {
          "name": "stdout",
          "output_type": "stream",
          "text": [
            "Inserted 19 headlines.\n"
          ]
        }
      ],
      "source": [
        "\n",
        "astra_vector_store.add_texts(texts[:50])\n",
        "\n",
        "print(\"Inserted %i headlines.\" % len(texts[:50]))\n",
        "\n",
        "astra_vector_index = VectorStoreIndexWrapper(vectorstore=astra_vector_store)"
      ]
    },
    {
      "cell_type": "code",
      "execution_count": null,
      "metadata": {
        "id": "KhVf0kir2Uke"
      },
      "outputs": [],
      "source": []
    },
    {
      "attachments": {},
      "cell_type": "markdown",
      "metadata": {
        "id": "oLJp8yPF4Rpt"
      },
      "source": [
        "### Run the QA cycle\n",
        "\n",
        "Simply run the cells and ask a question -- or `quit` to stop. (you can also stop execution with the \"▪\" button on the top toolbar)\n",
        "\n",
        "Here are some suggested questions:\n",
        "- _What is the current GDP?_\n",
        "- _How much the agriculture target will be increased to and what the focus will be_\n"
      ]
    },
    {
      "cell_type": "code",
      "execution_count": 20,
      "metadata": {
        "colab": {
          "base_uri": "https://localhost:8080/"
        },
        "id": "MbJugrh7SX3C",
        "outputId": "f67da56e-a6de-47a4-8a4f-2bf024f89f90"
      },
      "outputs": [
        {
          "name": "stdout",
          "output_type": "stream",
          "text": [
            "\n",
            "Enter your question (or type 'quit' to exit): what is it all about\n",
            "\n",
            "QUESTION: \"what is it all about\"\n"
          ]
        },
        {
          "name": "stderr",
          "output_type": "stream",
          "text": [
            "WARNING:cassandra.protocol:Server warning: Top-K queries can only be run with consistency level ONE / LOCAL_ONE / NODE_LOCAL. Consistency level LOCAL_QUORUM was requested. Downgrading the consistency level to LOCAL_ONE.\n"
          ]
        },
        {
          "name": "stdout",
          "output_type": "stream",
          "text": [
            "ANSWER: \"The context is discussing the importance and relevance of Indian mythology in modern society, including its role in explaining spiritual potential, exploring common archetypes, and bonding individuals to their culture. It also mentions how myths are passed down through generations and used as a medium to inculcate interest in Indian culture. The conclusion states that Indian mythology serves four basic functions - the Mystical Function, the Cosmological Function, the Sociological Function, and the Pedagogical Function - and is essential in imparting values of Indian culture worldwide. Overall, the context is about the significance of Indian mythology in connecting modern society to bygone ages and transmitting religious experiences and role models.\"\n",
            "\n",
            "FIRST DOCUMENTS BY RELEVANCE:\n"
          ]
        },
        {
          "name": "stderr",
          "output_type": "stream",
          "text": [
            "WARNING:cassandra.protocol:Server warning: Top-K queries can only be run with consistency level ONE / LOCAL_ONE / NODE_LOCAL. Consistency level LOCAL_QUORUM was requested. Downgrading the consistency level to LOCAL_ONE.\n"
          ]
        },
        {
          "name": "stdout",
          "output_type": "stream",
          "text": [
            "    [0.8865] \"explain patterns of worship and attempt to reconnect the modern society to the bygon ...\"\n",
            "    [0.8860] \"about Goddesses & Gods, demi -gods, legendary personalities of different civilizatio ...\"\n",
            "    [0.8850] \"myth ology and this magnifies the ability of the performer to present them. Indian m ...\"\n",
            "    [0.8828] \"mythology is very much prevalent today, as never before. It is interesting to note t ...\"\n",
            "\n",
            "What's your next question (or type 'quit' to exit): who has written that?\n",
            "\n",
            "QUESTION: \"who has written that?\"\n"
          ]
        },
        {
          "name": "stderr",
          "output_type": "stream",
          "text": [
            "WARNING:cassandra.protocol:Server warning: Top-K queries can only be run with consistency level ONE / LOCAL_ONE / NODE_LOCAL. Consistency level LOCAL_QUORUM was requested. Downgrading the consistency level to LOCAL_ONE.\n"
          ]
        },
        {
          "name": "stdout",
          "output_type": "stream",
          "text": [
            "ANSWER: \"The author of this passage is not mentioned, so it is unknown who wrote this.\"\n",
            "\n",
            "FIRST DOCUMENTS BY RELEVANCE:\n"
          ]
        },
        {
          "name": "stderr",
          "output_type": "stream",
          "text": [
            "WARNING:cassandra.protocol:Server warning: Top-K queries can only be run with consistency level ONE / LOCAL_ONE / NODE_LOCAL. Consistency level LOCAL_QUORUM was requested. Downgrading the consistency level to LOCAL_ONE.\n"
          ]
        },
        {
          "name": "stdout",
          "output_type": "stream",
          "text": [
            "    [0.8709] \"values.   \n",
            " Rāmāyaṇa has been re -written in Hindi, Thamizh and other Indian langua ...\"\n",
            "    [0.8689] \"Rāma (the seventh avatar of Lord Viṣhṇu) in the Thretha yuga.  \n",
            " The Mahābhāratha   ...\"\n",
            "    [0.8676] \"better picture of the content in terms of the respective time -frames.  \n",
            " \n",
            "Epics  \n",
            "T ...\"\n",
            "    [0.8665] \"same. These stories, which form the backbone of Indian mythology, are a great medium ...\"\n",
            "\n",
            "What's your next question (or type 'quit' to exit): is there any iinfo regarding the author?\n",
            "\n",
            "QUESTION: \"is there any iinfo regarding the author?\"\n"
          ]
        },
        {
          "name": "stderr",
          "output_type": "stream",
          "text": [
            "WARNING:cassandra.protocol:Server warning: Top-K queries can only be run with consistency level ONE / LOCAL_ONE / NODE_LOCAL. Consistency level LOCAL_QUORUM was requested. Downgrading the consistency level to LOCAL_ONE.\n"
          ]
        },
        {
          "name": "stdout",
          "output_type": "stream",
          "text": [
            "ANSWER: \"The author of the Rāmāyaṇa is Vālmīki, while the author of the Mahābhāratha is traditionally attributed to Vyāsa.\"\n",
            "\n",
            "FIRST DOCUMENTS BY RELEVANCE:\n"
          ]
        },
        {
          "name": "stderr",
          "output_type": "stream",
          "text": [
            "WARNING:cassandra.protocol:Server warning: Top-K queries can only be run with consistency level ONE / LOCAL_ONE / NODE_LOCAL. Consistency level LOCAL_QUORUM was requested. Downgrading the consistency level to LOCAL_ONE.\n"
          ]
        },
        {
          "name": "stdout",
          "output_type": "stream",
          "text": [
            "    [0.8750] \"better picture of the content in terms of the respective time -frames.  \n",
            " \n",
            "Epics  \n",
            "T ...\"\n",
            "    [0.8713] \"same. These stories, which form the backbone of Indian mythology, are a great medium ...\"\n",
            "    [0.8678] \"values.   \n",
            " Rāmāyaṇa has been re -written in Hindi, Thamizh and other Indian langua ...\"\n",
            "    [0.8678] \"Rāma (the seventh avatar of Lord Viṣhṇu) in the Thretha yuga.  \n",
            " The Mahābhāratha   ...\"\n",
            "\n",
            "What's your next question (or type 'quit' to exit): how many pages it has?\n",
            "\n",
            "QUESTION: \"how many pages it has?\"\n"
          ]
        },
        {
          "name": "stderr",
          "output_type": "stream",
          "text": [
            "WARNING:cassandra.protocol:Server warning: Top-K queries can only be run with consistency level ONE / LOCAL_ONE / NODE_LOCAL. Consistency level LOCAL_QUORUM was requested. Downgrading the consistency level to LOCAL_ONE.\n"
          ]
        },
        {
          "name": "stdout",
          "output_type": "stream",
          "text": [
            "ANSWER: \"It is not possible to determine the exact number of pages as it depends on the format and size of the book. However, the Mahābhāratha is the longest Sanskrit epic and its longest version consists of over 100,000 verses or over 200,000 individual verse lines and also many long passages in prose, making it a very lengthy text.\"\n",
            "\n",
            "FIRST DOCUMENTS BY RELEVANCE:\n"
          ]
        },
        {
          "name": "stderr",
          "output_type": "stream",
          "text": [
            "WARNING:cassandra.protocol:Server warning: Top-K queries can only be run with consistency level ONE / LOCAL_ONE / NODE_LOCAL. Consistency level LOCAL_QUORUM was requested. Downgrading the consistency level to LOCAL_ONE.\n"
          ]
        },
        {
          "name": "stdout",
          "output_type": "stream",
          "text": [
            "    [0.8783] \"over 100,000  verses or over 200,000 individual verse lines (each Śhloka is a couple ...\"\n",
            "    [0.8763] \"values.   \n",
            " Rāmāyaṇa has been re -written in Hindi, Thamizh and other Indian langua ...\"\n",
            "    [0.8746] \"Rāma (the seventh avatar of Lord Viṣhṇu) in the Thretha yuga.  \n",
            " The Mahābhāratha   ...\"\n",
            "    [0.8692] \"better picture of the content in terms of the respective time -frames.  \n",
            " \n",
            "Epics  \n",
            "T ...\"\n",
            "\n",
            "What's your next question (or type 'quit' to exit): quit\n"
          ]
        }
      ],
      "source": [
        "first_question = True\n",
        "while True:\n",
        "    if first_question:\n",
        "        query_text = input(\"\\nEnter your question (or type 'quit' to exit): \").strip()\n",
        "    else:\n",
        "        query_text = input(\"\\nWhat's your next question (or type 'quit' to exit): \").strip()\n",
        "\n",
        "    if query_text.lower() == \"quit\":\n",
        "        break\n",
        "\n",
        "    if query_text == \"\":\n",
        "        continue\n",
        "\n",
        "    first_question = False\n",
        "\n",
        "    print(\"\\nQUESTION: \\\"%s\\\"\" % query_text)\n",
        "    answer = astra_vector_index.query(query_text, llm=llm).strip()\n",
        "    print(\"ANSWER: \\\"%s\\\"\\n\" % answer)\n",
        "\n",
        "    print(\"FIRST DOCUMENTS BY RELEVANCE:\")\n",
        "    for doc, score in astra_vector_store.similarity_search_with_score(query_text, k=4):\n",
        "        print(\"    [%0.4f] \\\"%s ...\\\"\" % (score, doc.page_content[:84]))"
      ]
    },
    {
      "cell_type": "code",
      "execution_count": null,
      "metadata": {
        "id": "dSaUPguw389l"
      },
      "outputs": [],
      "source": []
    }
  ],
  "metadata": {
    "colab": {
      "provenance": []
    },
    "kernelspec": {
      "display_name": "Python 3 (ipykernel)",
      "language": "python",
      "name": "python3"
    },
    "language_info": {
      "codemirror_mode": {
        "name": "ipython",
        "version": 3
      },
      "file_extension": ".py",
      "mimetype": "text/x-python",
      "name": "python",
      "nbconvert_exporter": "python",
      "pygments_lexer": "ipython3",
      "version": "3.10.12"
    }
  },
  "nbformat": 4,
  "nbformat_minor": 0
}
